{
  "nbformat": 4,
  "nbformat_minor": 0,
  "metadata": {
    "colab": {
      "name": "Edo_NN_autograd.ipynb",
      "provenance": [],
      "collapsed_sections": []
    },
    "kernelspec": {
      "name": "python3",
      "display_name": "Python 3"
    }
  },
  "cells": [
    {
      "cell_type": "markdown",
      "metadata": {
        "id": "f-u9f3buYlsm"
      },
      "source": [
        "# Implémentation de résolution d'EDO à l'aide de réseaux de neurones\r\n",
        "\r\n",
        "Ici nous nous proposons d'utiliser la méthode Lagaris pour résoudre des EDO"
      ]
    },
    {
      "cell_type": "code",
      "metadata": {
        "id": "RV0OSsBkYj6c"
      },
      "source": [
        "import autograd.numpy as np\r\n",
        "from autograd import elementwise_grad as egrad\r\n",
        "import autograd.numpy.random as npr\r\n",
        "from autograd import grad\r\n",
        "#Importons les éléments de différentiation essentiels à notre réseau de neurones\r\n",
        "from scipy.integrate import solve_ivp\r\n",
        "#la méthode d'intégration pour obtenir résoudre nos EDO"
      ],
      "execution_count": null,
      "outputs": []
    },
    {
      "cell_type": "code",
      "metadata": {
        "id": "7c2RPyUWgkvo"
      },
      "source": [
        "import matplotlib.pyplot as plt\r\n",
        "from matplotlib import animation, rc\r\n",
        "from IPython.display import HTML\r\n",
        "import seaborn as sns\r\n",
        "sns.set()\r\n",
        "#Pour des beaux graphiques"
      ],
      "execution_count": null,
      "outputs": []
    },
    {
      "cell_type": "markdown",
      "metadata": {
        "id": "izeIa3lbg216"
      },
      "source": [
        "On définit la fonction f de l'edo tel que \r\n",
        "$$\\frac{dy(t)}{dt}=f(t,y)$$\r\n",
        "\r\n",
        "Définissons aussi \r\n",
        "$$\r\n",
        "G\\Big(y,\\frac{dy}{dt},t\\Big) = \\frac{dy(t)}{dt}-f(t,y) =0\r\n",
        "$$"
      ]
    },
    {
      "cell_type": "code",
      "metadata": {
        "id": "el1_euQVcJdx"
      },
      "source": [
        "def f(t, y):\r\n",
        "    return np.array([t*(998*y[0] + 1998*y[1]), -999*y[0] - 1999*y[1]])\r\n",
        "\"\"\"def f_ivp(t,y):\r\n",
        "  return [t*(998*y[0] + 1998*y[1]), -999*y[0] - 1999*y[1]]\r\n",
        "\"\"\"\r\n",
        "t = np.linspace(0,2,11)\r\n",
        "\r\n",
        "y0=[2,-1]\r\n",
        "sol = solve_ivp(f, [t.min(), t.max()], y0, method='RK45', rtol=1e-5)\r\n",
        "#Calcul de la solution réelle grâce à la méthode RKF45 (equivalent à RKF45 sur matlab)"
      ],
      "execution_count": null,
      "outputs": []
    },
    {
      "cell_type": "markdown",
      "metadata": {
        "id": "ADfbQTcjxQRL"
      },
      "source": [
        "Voilà à quoi pourrait ressembler la solution par la méthode de RK45:"
      ]
    },
    {
      "cell_type": "code",
      "metadata": {
        "colab": {
          "base_uri": "https://localhost:8080/"
        },
        "id": "--JHJEe9hTTX",
        "outputId": "9eb07d08-6416-4bce-8741-803c923dc26f"
      },
      "source": [
        "plt.plot(sol.t,sol.y.T)"
      ],
      "execution_count": null,
      "outputs": [
        {
          "output_type": "execute_result",
          "data": {
            "text/plain": [
              "[<matplotlib.lines.Line2D at 0x7f42a1e9fc10>,\n",
              " <matplotlib.lines.Line2D at 0x7f42a1e9fe10>]"
            ]
          },
          "metadata": {
            "tags": []
          },
          "execution_count": 70
        },
        {
          "output_type": "display_data",
          "data": {
            "image/png": "[encoded data removed]",
            "text/plain": [
              "<Figure size 432x288 with 1 Axes>"
            ]
          },
          "metadata": {
            "tags": []
          }
        }
      ]
    },
    {
      "cell_type": "markdown",
      "metadata": {
        "id": "8wiAzgpUhnM1"
      },
      "source": [
        "Définissons aussi la fonction de scale qui aura le role suivant dans notre réseau: Soit $\\hat{y}$ la solution de notre réseau:\r\n",
        "$$\\hat{y}(t)=y_0+a(t)N(t,p), \\quad a(t_0) = 0$$\r\n",
        "\r\n",
        "Ainsi que $b$ qui sert au calcul de l'erreur. Dans l'article de [Flamant *et al.*](https://arxiv.org/pdf/2006.14372.pdf), on calcul l'erreur comme étant:\r\n",
        "$$\r\n",
        "L = \\frac{1}{\\lvert B \\rvert} \\sum_{(t,x_{0})\\in B} b(t_i) \\lvert G\\Big(\\hat{y}(t_i,x_{0}), \\frac{\\hat{y}(t_i,x_{0})}{\\partial t},t_i \\Big) \\rvert ^2\r\n",
        "$$\r\n",
        "$b$ sert à augmenter la vitesse à laquelle le réseau s'entraîne.\r\n",
        "Notons qu'il s'agit ici d'une adaptation de la loss qui est utilisée dans l'article. Nous considérons la loss pour un exemple de paramètres de fonction donnée, alors que dans l'article en lui même, on ajoute tout un intervalle de points de départs, ainsi que des paramètres de l'équation différentielle prise en compte.\r\n"
      ]
    },
    {
      "cell_type": "code",
      "metadata": {
        "id": "stw7uOdPhmF7"
      },
      "source": [
        "def a(t,t0=0):\r\n",
        "    return 1-np.exp(-(t-t0))\r\n",
        "\r\n",
        "def b(t,t0=0):\r\n",
        "  return np.exp(-(t-t0))\r\n"
      ],
      "execution_count": null,
      "outputs": []
    },
    {
      "cell_type": "markdown",
      "metadata": {
        "id": "6_6v7fRibuHN"
      },
      "source": [
        "Commencons par définir notre réseau de neurones:\r\n",
        "\r\n",
        "Dans l'implémentation choisie, on suppose que `layer_size` est un array qui définit le nombre d'entrées, de sorties ainsi que le nombre de neurones de chaque couches.\r\n",
        "\r\n",
        "Dans l'example pour lequel j'ai appliqué l'entraînement de mon réseau, j'ai une entrée par point d'apprentissage, et deux sorties. J'ai donc ensuite l'option du nombre de neurones par couches cachées. Notons donc qu'un réseau de neurones donné sera entièrement définit par ses paramètres.\r\n",
        "\r\n",
        "\r\n",
        "Ici la fonction forward calcul, pour un set de paramètres, une entrée et une fonction d'activation, l'évaluation du réseau de neurones."
      ]
    },
    {
      "cell_type": "code",
      "metadata": {
        "id": "DMGHd9abbtGb"
      },
      "source": [
        "def init_params(layer_sizes):\r\n",
        "    return [(.5*npr.randn(m,n),\r\n",
        "             .5*npr.randn(n))\r\n",
        "             for m,n in zip(layer_sizes[:-1],layer_sizes[1:])]\r\n",
        "\r\n",
        "def forward(input,parametres, act=np.tanh):\r\n",
        "    input=input.reshape(-1,1)\r\n",
        "    for poids, biais in parametres:\r\n",
        "        out=np.dot(input,poids)+biais\r\n",
        "        input=act(out)\r\n",
        "    return out"
      ],
      "execution_count": null,
      "outputs": []
    },
    {
      "cell_type": "markdown",
      "metadata": {
        "id": "kbiEnhwNb4nN"
      },
      "source": [
        "Maintenant la solution de l'EDO par la méthode de Lagaris ainsi qu'un wrapper des dérivées:\r\n",
        "\r\n",
        "Ici, la fonction `lagaris` est simplement la fonction décrite ci-dessus, ainsi que dans l'article de [Lagaris *et al.*](https://arxiv.org/pdf/physics/9705023.pdf)\r\n",
        "\r\n",
        "Et la fonction qui suit est la même mais nous donne la $i^{ème}$ composante de l'évaluation de la solution pour le réseau de neurones."
      ]
    },
    {
      "cell_type": "code",
      "metadata": {
        "id": "sfJBRgTmb74g"
      },
      "source": [
        "def lagaris(t,y0,parametres,a=a,act=np.tanh):\r\n",
        "    t.reshape(-1,1);\r\n",
        "    sortie=y0+a(t).reshape(-1,1)*forward(t,parametres,act)\r\n",
        "    return sortie.T\r\n",
        "def lagarisi(t,y0,parametres,i,a=a,act=np.tanh):\r\n",
        "  return lagaris(t,y0,parametres,a=a,act=np.tanh)[i]"
      ],
      "execution_count": null,
      "outputs": []
    },
    {
      "cell_type": "markdown",
      "metadata": {
        "id": "v2OUWaMnMRDW"
      },
      "source": [
        "Ici, on définit `gradlagaris` qui est simplement la dérivée de la sortie par rapport au paramètre d'entrée, dans notre cas $t$"
      ]
    },
    {
      "cell_type": "code",
      "metadata": {
        "id": "PIOXHAk-S65I"
      },
      "source": [
        "gradlagarisi=egrad(lagarisi)"
      ],
      "execution_count": null,
      "outputs": []
    },
    {
      "cell_type": "markdown",
      "metadata": {
        "id": "jYxl-iiYcZlz"
      },
      "source": [
        "Enfin définissons la fonction de coût qui va nous servir à optimiser notre réseau de neurones\r\n",
        "Ici, il s'agit simplement de la fonction de coût donnée plus haut: \r\n",
        "$$\r\n",
        "L = \\frac{1}{\\lvert B \\rvert} \\sum_{(t,x_{0})\\in B} b(t_i) \\lvert G\\Big(\\hat{y}(t_i,x_{0}), \\frac{\\hat{y}(t_i,x_{0})}{\\partial t},t_i \\Big) \\rvert ^2\r\n",
        "$$"
      ]
    },
    {
      "cell_type": "code",
      "metadata": {
        "id": "HH5FujdYcSaN"
      },
      "source": [
        "def cost(input,y0,parametres,f=f,a=a,act=np.tanh):\r\n",
        "  #D'abord on prend les dérivations par rapport à t des y_i\r\n",
        "  preds=np.array([gradlagarisi(t,y0,parametres,i) for i in range(len(y0))])\r\n",
        "  #Ensuite on regarde les valeurs exactes que les dérivées sont sensé respecter\r\n",
        "  exact=np.array(f(t,lagaris(t,y0,parametres)))\r\n",
        "  #On prend le carré de la différence sur l'erreur en chaque y_i\r\n",
        "  diffpred=b(t)*(preds-exact)**2\r\n",
        "  #On prend l'erreur sur tout les examples pris pour apprendre\r\n",
        "  err_y_i = np.sum(diffpred,axis=0)\r\n",
        "  #On retourne l'erreur totale qui est la somme des erreurs sur les deux sorties\r\n",
        "  err_tot = np.mean(err_y_i)\r\n",
        "  return err_tot"
      ],
      "execution_count": null,
      "outputs": []
    },
    {
      "cell_type": "markdown",
      "metadata": {
        "id": "h_GTweOjMzs5"
      },
      "source": [
        "Ainsi qu'un test d'implémentation pour des paramètres pris au hasard avec 2 couches cachées de 10 neurones chacuns:"
      ]
    },
    {
      "cell_type": "code",
      "metadata": {
        "colab": {
          "base_uri": "https://localhost:8080/",
          "height": 73
        },
        "id": "ngvB8eKm3vdA",
        "outputId": "f9ec3aab-9a1d-491a-ef63-86b5d12dfbf2"
      },
      "source": [
        "parametres = init_params([1,10,10,2])\r\n",
        "print(cost(t,y0,parametres))\r\n",
        "\r\n",
        "\"\"\"preds=np.array([gradlagarisi(t,y0,parametres,i) for i in range(len(y0))])\r\n",
        "exact=np.array(f(t,lagaris(t,y0,parametres)))\r\n",
        "diffpred=b(t)*(preds-exact)**2\r\n",
        "err_y_i = np.sum(diffpred,axis=0)\r\n",
        "err_tot = np.mean(err_y_i)\r\n",
        "print(err_tot)\"\"\""
      ],
      "execution_count": null,
      "outputs": [
        {
          "output_type": "stream",
          "text": [
            "3398272.2543958216\n"
          ],
          "name": "stdout"
        },
        {
          "output_type": "execute_result",
          "data": {
            "application/vnd.google.colaboratory.intrinsic+json": {
              "type": "string"
            },
            "text/plain": [
              "'preds=np.array([gradlagarisi(t,y0,parametres,i) for i in range(len(y0))])\\nexact=np.array(f(t,lagaris(t,y0,parametres)))\\ndiffpred=b(t)*(preds-exact)**2\\nerr_y_i = np.sum(diffpred,axis=0)\\nerr_tot = np.mean(err_y_i)\\nprint(err_tot)'"
            ]
          },
          "metadata": {
            "tags": []
          },
          "execution_count": 11
        }
      ]
    },
    {
      "cell_type": "markdown",
      "metadata": {
        "id": "SNumSEI3M-cK"
      },
      "source": [
        "Dans la suite, il nous est nécessaire de définir un wrapper de la loss pour utiliser la fonction `adam` de la bibliothèque [autograd](https://github.com/HIPS/autograd)"
      ]
    },
    {
      "cell_type": "code",
      "metadata": {
        "id": "Crv7baLfpjoD"
      },
      "source": [
        "#Normalement on définirait la loss pour un temps ainsi que des conditions initiales définies dans une classe \r\n",
        "#qui aurait été notre réseau de neurones. Ca n'est pas le cas ici, on suppose donc que la loss est toujours sur le même \r\n",
        "#intervalle. Il s'agit donc d'un simple wrapper de la fonction cost.\r\n",
        "def loss(parametres,iter):\r\n",
        "  return cost(t,y0,parametres,f,a,np.tanh)"
      ],
      "execution_count": null,
      "outputs": []
    },
    {
      "cell_type": "markdown",
      "metadata": {
        "id": "dz2uRyiANMYv"
      },
      "source": [
        "Ainsi qu'un test de l'implémentation de celui-ci:"
      ]
    },
    {
      "cell_type": "code",
      "metadata": {
        "colab": {
          "base_uri": "https://localhost:8080/"
        },
        "id": "5TXey-AxNQiZ",
        "outputId": "6472e74a-f0b1-4cef-cb0d-4e22784ad381"
      },
      "source": [
        "print(loss(parametres,_))"
      ],
      "execution_count": null,
      "outputs": [
        {
          "output_type": "stream",
          "text": [
            "3398272.2543958216\n"
          ],
          "name": "stdout"
        }
      ]
    },
    {
      "cell_type": "markdown",
      "metadata": {
        "id": "8LKx085IixGX"
      },
      "source": [
        "Définissons ensuite les paramètres et regardons comment notre réseau de neurones se débrouille: La réponse est mal. C'est normal étant donné que l'on ne l'a pas encore entraîné !"
      ]
    },
    {
      "cell_type": "code",
      "metadata": {
        "colab": {
          "base_uri": "https://localhost:8080/",
          "height": 305
        },
        "id": "QEdBrVJscoFt",
        "outputId": "1f8caba4-7a72-4f15-d091-2d71ed0a3231"
      },
      "source": [
        "params=init_params([1,10,10,2])\r\n",
        "params2=init_params([1,10,10,2])\r\n",
        "\r\n",
        "t=np.linspace(0,2,11)\r\n",
        "y0=[2,-1]\r\n",
        "plt.plot(lagaris(t,y0,params).T)"
      ],
      "execution_count": null,
      "outputs": [
        {
          "output_type": "execute_result",
          "data": {
            "text/plain": [
              "[<matplotlib.lines.Line2D at 0x7f42aaf1be10>,\n",
              " <matplotlib.lines.Line2D at 0x7f42aaf1bfd0>]"
            ]
          },
          "metadata": {
            "tags": []
          },
          "execution_count": 14
        },
        {
          "output_type": "display_data",
          "data": {
            "image/png": "[encoded data removed]",
            "text/plain": [
              "<Figure size 432x288 with 1 Axes>"
            ]
          },
          "metadata": {
            "tags": []
          }
        }
      ]
    },
    {
      "cell_type": "code",
      "metadata": {
        "id": "V63Lb1cFR0LJ"
      },
      "source": [
        "from autograd.misc.optimizers import adam\r\n",
        "#L'optimiseur qu'on utilise"
      ],
      "execution_count": null,
      "outputs": []
    },
    {
      "cell_type": "markdown",
      "metadata": {
        "id": "buDYokvmNrkp"
      },
      "source": [
        "On utilise ici l'optimiseur Adam décrit dans [Kingma *et al.*](https://arxiv.org/pdf/1412.6980.pdf). Voilà comment elle est implémentée dans la bibliothèque autograd: [adam](https://github.com/HIPS/autograd/blob/c6f630a5ec18bd30f1485bc0dbbccb8664c77510/autograd/misc/optimizers.py#L57). Cette fonction est une descente de gradient stochastique. On verra que cette méthode a du mal à converger, même après 1 million d'itérations, et que des méthodes de types quasi-Newton convergent beaucoup plus rapidement:"
      ]
    },
    {
      "cell_type": "code",
      "metadata": {
        "id": "FE-jfx7RSQNz"
      },
      "source": [
        "#La fonction de call-back pour chaque 10ème d'itération, on regarde comment la loss se comporte:\r\n",
        "num_iters = 10000\r\n",
        "loss_calc=np.zeros(num_iters)\r\n",
        "def callback(params, iter, g):\r\n",
        "  loss_calc[iter]=loss(params,iter)\r\n",
        "  if iter%(num_iters/10) == 0 or iter == num_iters:\r\n",
        "    print(\"Iteration  {:d}/{:d} loss {:.6f}\".format(iter,num_iters,loss(params,iter)))"
      ],
      "execution_count": null,
      "outputs": []
    },
    {
      "cell_type": "markdown",
      "metadata": {
        "id": "DWr9r5P6PF-w"
      },
      "source": [
        "On se propose ici d'optimiser nos paramètres grâce à la méthode `adam`. Essayons d'entraîner un réseau de 2 couches de neurones cachées de 10 neurones chacunes sur 10 000 itérations, et ce sur 2 fois avec un pas de $10^{-3}$ initialement, ensuite $10^{-5}$ et observons ce que l'on obtient:"
      ]
    },
    {
      "cell_type": "code",
      "metadata": {
        "id": "eSJIOLgFSDP3",
        "colab": {
          "base_uri": "https://localhost:8080/"
        },
        "outputId": "bc68530f-fa80-43cd-c42d-0d860180b59b"
      },
      "source": [
        "params_opt = init_params([1,10,2])\r\n",
        "params_opt = adam(grad(loss),params_opt,num_iters = num_iters,callback=callback,step_size=10**-3)"
      ],
      "execution_count": null,
      "outputs": [
        {
          "output_type": "stream",
          "text": [
            "Iteration  0/10000 loss 1339512.476966\n",
            "Iteration  1000/10000 loss 165.561104\n",
            "Iteration  2000/10000 loss 114.965992\n",
            "Iteration  3000/10000 loss 59.696842\n",
            "Iteration  4000/10000 loss 19.132351\n",
            "Iteration  5000/10000 loss 3.131928\n",
            "Iteration  6000/10000 loss 0.875813\n",
            "Iteration  7000/10000 loss 0.672065\n",
            "Iteration  8000/10000 loss 0.504124\n",
            "Iteration  9000/10000 loss 0.361562\n"
          ],
          "name": "stdout"
        }
      ]
    },
    {
      "cell_type": "code",
      "metadata": {
        "colab": {
          "base_uri": "https://localhost:8080/"
        },
        "id": "P6a_L3T7BTjq",
        "outputId": "6de06420-a71d-4286-aa44-3d20832de2b0"
      },
      "source": [
        "params_opt = adam(grad(loss),params_opt,num_iters = num_iters,callback=callback,step_size=10**-5)"
      ],
      "execution_count": null,
      "outputs": [
        {
          "output_type": "stream",
          "text": [
            "Iteration  0/10000 loss 0.281665\n",
            "Iteration  1000/10000 loss 0.255406\n",
            "Iteration  2000/10000 loss 0.246459\n",
            "Iteration  3000/10000 loss 0.240107\n",
            "Iteration  4000/10000 loss 0.234297\n",
            "Iteration  5000/10000 loss 0.228882\n",
            "Iteration  6000/10000 loss 0.223790\n",
            "Iteration  7000/10000 loss 0.219052\n",
            "Iteration  8000/10000 loss 0.214549\n",
            "Iteration  9000/10000 loss 0.210319\n"
          ],
          "name": "stdout"
        }
      ]
    },
    {
      "cell_type": "code",
      "metadata": {
        "colab": {
          "base_uri": "https://localhost:8080/"
        },
        "id": "p7UStnWBQo6Z",
        "outputId": "c6360b60-ecaa-41a8-bc68-11e60afbdc0e"
      },
      "source": [
        "params_opt = adam(grad(loss),params_opt,num_iters = num_iters,callback=callback,step_size=10**-3)"
      ],
      "execution_count": null,
      "outputs": [
        {
          "output_type": "stream",
          "text": [
            "Iteration  0/10000 loss 0.206313\n",
            "Iteration  1000/10000 loss 0.200463\n",
            "Iteration  2000/10000 loss 0.195609\n",
            "Iteration  3000/10000 loss 0.192087\n",
            "Iteration  4000/10000 loss 0.188732\n",
            "Iteration  5000/10000 loss 0.185546\n",
            "Iteration  6000/10000 loss 0.356378\n",
            "Iteration  7000/10000 loss 0.213774\n",
            "Iteration  8000/10000 loss 0.176917\n",
            "Iteration  9000/10000 loss 0.174292\n"
          ],
          "name": "stdout"
        }
      ]
    },
    {
      "cell_type": "markdown",
      "metadata": {
        "id": "N0uCqjOKSoWg"
      },
      "source": [
        "On remarque qu'avec cette architecture, on a clairement des problèmes pour converger sur les bonnes solution, bien que la fonction de perte, qu'on essaye de minimiser, soit réduite, affichant même une loss assez faible."
      ]
    },
    {
      "cell_type": "code",
      "metadata": {
        "colab": {
          "base_uri": "https://localhost:8080/",
          "height": 305
        },
        "id": "3P7h-t4EUzT0",
        "outputId": "f82eaa10-0390-4bf1-83b6-03a05e3646f1"
      },
      "source": [
        "plt.plot(t,lagaris(t,y0,params_opt).T,'o')\r\n",
        "plt.plot(sol.t,sol.y.T)"
      ],
      "execution_count": null,
      "outputs": [
        {
          "output_type": "execute_result",
          "data": {
            "text/plain": [
              "[<matplotlib.lines.Line2D at 0x7f42a23037d0>,\n",
              " <matplotlib.lines.Line2D at 0x7f42a23039d0>]"
            ]
          },
          "metadata": {
            "tags": []
          },
          "execution_count": 45
        },
        {
          "output_type": "display_data",
          "data": {
            "image/png": "[encoded data removed]",
            "text/plain": [
              "<Figure size 432x288 with 1 Axes>"
            ]
          },
          "metadata": {
            "tags": []
          }
        }
      ]
    },
    {
      "cell_type": "markdown",
      "metadata": {
        "id": "n5_0R-1qS7Rx"
      },
      "source": [
        "Essayons avec une architecture différente:"
      ]
    },
    {
      "cell_type": "code",
      "metadata": {
        "id": "sd_4wfchhmGH"
      },
      "source": [
        "params_opt2 = init_params([1,20,10,10,2])\r\n",
        "num_iters = 10000\r\n",
        "params_opt2 = adam(grad(loss),params_opt2,num_iters = num_iters,callback=callback,step_size=0.001)"
      ],
      "execution_count": null,
      "outputs": []
    },
    {
      "cell_type": "code",
      "metadata": {
        "colab": {
          "base_uri": "https://localhost:8080/"
        },
        "id": "hn_NJdUTiOWj",
        "outputId": "d555c1a1-a201-4e44-faca-d20317e72ee3"
      },
      "source": [
        "params_opt2 = adam(grad(loss),params_opt2,num_iters = num_iters,callback=callback,step_size=10**-5)"
      ],
      "execution_count": null,
      "outputs": [
        {
          "output_type": "stream",
          "text": [
            "Iteration  0/10000 loss 9.677432\n",
            "Iteration  1000/10000 loss 9.343807\n",
            "Iteration  2000/10000 loss 8.960960\n",
            "Iteration  3000/10000 loss 8.748237\n",
            "Iteration  4000/10000 loss 8.396860\n",
            "Iteration  5000/10000 loss 8.166377\n",
            "Iteration  6000/10000 loss 7.962034\n",
            "Iteration  7000/10000 loss 7.779833\n",
            "Iteration  8000/10000 loss 7.615094\n",
            "Iteration  9000/10000 loss 7.467568\n"
          ],
          "name": "stdout"
        }
      ]
    },
    {
      "cell_type": "markdown",
      "metadata": {
        "id": "xSK787jjT5Bo"
      },
      "source": [
        "Même en changent l'architecture de notre réseau de neurones, on remarque quand même que la solution ne fait pas grand sens."
      ]
    },
    {
      "cell_type": "code",
      "metadata": {
        "id": "YwFdRXIktL5N"
      },
      "source": [
        "plt.plot(t,lagaris(t,y0,params_opt2).T,'o')\r\n",
        "plt.plot(sol.t,sol.y.T)"
      ],
      "execution_count": null,
      "outputs": []
    },
    {
      "cell_type": "markdown",
      "metadata": {
        "id": "-_sA_t3kUCw5"
      },
      "source": [
        "Voyons une solution qui fonctionne: Il s'agit ici d'une solution basée sur un réseau avec une seule couche cachée entraîné d'abord sur 100.000 itération d'adam avec un pas de $10^{-3}$ puis 1M sur le même algorithme avec un pas de $10^{-5}$. On obtient les paramètres suivants:"
      ]
    },
    {
      "cell_type": "code",
      "metadata": {
        "id": "6U20hRG_vx2G"
      },
      "source": [
        "params = [(np.array([[ 0.10813013,  0.03265201,  0.0788054 , -0.35538798,  0.03589739,\r\n",
        "        -0.60314279,  0.62454724,  0.4211878 , -0.403067  ,  1.32026848]]), np.array([ 0.03531259,  0.19788998, -0.38759798,  0.51675693,  0.27541517,\r\n",
        "       -0.14665625, -0.13679413,  0.09909085, -1.49035977,  0.14631405])), (np.array([[-1.10418515, -0.40108507],\r\n",
        "       [-0.95666968,  0.71460646],\r\n",
        "       [-0.13035987, -0.60564261],\r\n",
        "       [-0.63593393, -0.1383721 ],\r\n",
        "       [ 0.79156784,  0.31689273],\r\n",
        "       [ 0.6440889 , -0.85852693],\r\n",
        "       [-0.22480984, -0.1402638 ],\r\n",
        "       [ 0.33676708, -0.48112532],\r\n",
        "       [-0.65953446,  0.26315233],\r\n",
        "       [ 0.45943416, -0.25922728]]), np.array([-0.16204617, -0.29357971]))]"
      ],
      "execution_count": null,
      "outputs": []
    },
    {
      "cell_type": "markdown",
      "metadata": {
        "id": "7sg-P2nyUlgp"
      },
      "source": [
        "On remarque ici que la solution, bien qu'assez proche est quand-même assez éronnée vers $t=2$."
      ]
    },
    {
      "cell_type": "code",
      "metadata": {
        "colab": {
          "base_uri": "https://localhost:8080/",
          "height": 305
        },
        "id": "1VvIeMOqv7Ew",
        "outputId": "c55e63ce-f82e-453d-81b4-e4c9cadf4629"
      },
      "source": [
        "plt.plot(t,lagaris(t,y0,params).T,'o')\r\n",
        "plt.plot(sol.t,sol.y.T)"
      ],
      "execution_count": null,
      "outputs": [
        {
          "output_type": "execute_result",
          "data": {
            "text/plain": [
              "[<matplotlib.lines.Line2D at 0x7f42a2162490>,\n",
              " <matplotlib.lines.Line2D at 0x7f42a2162690>]"
            ]
          },
          "metadata": {
            "tags": []
          },
          "execution_count": 49
        },
        {
          "output_type": "display_data",
          "data": {
            "image/png": "[encoded data removed]",
            "text/plain": [
              "<Figure size 432x288 with 1 Axes>"
            ]
          },
          "metadata": {
            "tags": []
          }
        }
      ]
    },
    {
      "cell_type": "markdown",
      "metadata": {
        "id": "oaBL4umJUwQE"
      },
      "source": [
        "#Méthode d'optimisation différente: la méthode BFGS\r\n",
        "\r\n",
        "Ici, nous nous proposons d'utiliser la méthode `minimize` de la bibliothèque `scipy` de python. Celle-ci nous permet d'utiliser des méthodes différentes de celles disponible dans le package `autograd`. On va utiliser une méthode de type Quasi-Newton (BFGS):"
      ]
    },
    {
      "cell_type": "code",
      "metadata": {
        "id": "_EPiSh0-aE6G"
      },
      "source": [
        "from scipy.optimize import minimize\r\n",
        "from autograd.misc.flatten import flatten\r\n",
        "\r\n",
        "params=init_params([1,10,10,2])"
      ],
      "execution_count": null,
      "outputs": []
    },
    {
      "cell_type": "markdown",
      "metadata": {
        "id": "bkYO4tcfZY6i"
      },
      "source": [
        "On créé les fonctions qui vont nous servir à optimiser nos paramètres grâce à la fonction en question."
      ]
    },
    {
      "cell_type": "code",
      "metadata": {
        "id": "tLTdY8-wa0_S"
      },
      "source": [
        "def loss_opt(params):\r\n",
        "  return cost(t,y0,params,f,a,np.tanh)\r\n",
        "def loss_wrapper(params_flat):\r\n",
        "  params=uflat(params_flat)\r\n",
        "  return loss_opt(params)\r\n",
        "\r\n",
        "def callback(params, iter, g):\r\n",
        "  loss_calc[iter]=loss(params,iter)\r\n",
        "  if iter%(num_iters/10) == 0 or iter == num_iters:\r\n",
        "    print(\"Iteration  {:d}/{:d} loss {:.6f}\".format(iter,num_iters,loss(params,iter)))\r\n",
        "\r\n",
        "iteration = 1\r\n",
        "iteration_max=5000\r\n",
        "iteration_print=50\r\n",
        "loss_scipy=[]\r\n",
        "def print_loss(x):\r\n",
        "  global iteration\r\n",
        "  global iteration_print\r\n",
        "  loss_cur=loss_wrapper(x)\r\n",
        "  if iteration%iteration_print == 0:\r\n",
        "    print(\"Loss : {:.6f} à l'itération {:d}\".format(loss_cur,iteration))\r\n",
        "  loss_scipy.append(loss_cur)\r\n",
        "  iteration = iteration+1"
      ],
      "execution_count": null,
      "outputs": []
    },
    {
      "cell_type": "code",
      "metadata": {
        "id": "4T_6Q9YEZOPh"
      },
      "source": [
        "flat,uflat = flatten(params)\r\n",
        "iteration = 1\r\n",
        "iteration_max=5000\r\n",
        "iteration_print=50\r\n",
        "loss_scipy=[]"
      ],
      "execution_count": null,
      "outputs": []
    },
    {
      "cell_type": "code",
      "metadata": {
        "colab": {
          "base_uri": "https://localhost:8080/"
        },
        "id": "ChcQfUf7aJXZ",
        "outputId": "d36960c5-9baf-47c1-83d4-94c32a778bbc"
      },
      "source": [
        "opt=minimize(loss_wrapper,x0=np.array(flat),jac=grad(loss_wrapper),callback=print_loss, method = 'BFGS',options={'disp': True, 'maxiter': iteration_max})"
      ],
      "execution_count": null,
      "outputs": [
        {
          "output_type": "stream",
          "text": [
            "Loss : 0.118315 à l'itération 50\n",
            "Loss : 0.080744 à l'itération 100\n",
            "Loss : 0.073056 à l'itération 150\n",
            "Loss : 0.072486 à l'itération 200\n",
            "Loss : 0.072322 à l'itération 250\n",
            "Loss : 0.072141 à l'itération 300\n",
            "Loss : 0.072043 à l'itération 350\n",
            "Loss : 0.071989 à l'itération 400\n",
            "Loss : 0.071938 à l'itération 450\n",
            "Loss : 0.071904 à l'itération 500\n",
            "Loss : 0.071856 à l'itération 550\n",
            "Loss : 0.071372 à l'itération 600\n",
            "Loss : 0.066309 à l'itération 650\n",
            "Loss : 0.022260 à l'itération 700\n",
            "Loss : 0.002414 à l'itération 750\n",
            "Loss : 0.000557 à l'itération 800\n",
            "Loss : 0.000229 à l'itération 850\n",
            "Loss : 0.000155 à l'itération 900\n",
            "Loss : 0.000079 à l'itération 950\n",
            "Loss : 0.000042 à l'itération 1000\n",
            "Loss : 0.000026 à l'itération 1050\n",
            "Loss : 0.000019 à l'itération 1100\n",
            "Loss : 0.000008 à l'itération 1150\n",
            "Loss : 0.000004 à l'itération 1200\n",
            "Loss : 0.000002 à l'itération 1250\n",
            "Warning: Desired error not necessarily achieved due to precision loss.\n",
            "         Current function value: 0.000001\n",
            "         Iterations: 1280\n",
            "         Function evaluations: 1495\n",
            "         Gradient evaluations: 1483\n"
          ],
          "name": "stdout"
        }
      ]
    },
    {
      "cell_type": "markdown",
      "metadata": {
        "id": "RO-KnxCJaAR7"
      },
      "source": [
        "Dans l'exemple ci-dessus, on remarque qu'on converge au bout de 1280 itérations pour une loss de $1 \\cdot 10^{-5}$ ce qui rend l'optimisation de notre réseau beaucoup plus rapide."
      ]
    },
    {
      "cell_type": "code",
      "metadata": {
        "colab": {
          "base_uri": "https://localhost:8080/",
          "height": 305
        },
        "id": "rVyRtS7HfI_Y",
        "outputId": "9b286819-ccff-4189-feb6-c1d4ad1fcbb3"
      },
      "source": [
        "params=uflat(opt.x)\r\n",
        "plt.plot(t,lagaris(t,y0,params).T,'o')\r\n",
        "plt.plot(sol.t,sol.y.T)"
      ],
      "execution_count": null,
      "outputs": [
        {
          "output_type": "execute_result",
          "data": {
            "text/plain": [
              "[<matplotlib.lines.Line2D at 0x7f42a1fa37d0>,\n",
              " <matplotlib.lines.Line2D at 0x7f42a1fa39d0>]"
            ]
          },
          "metadata": {
            "tags": []
          },
          "execution_count": 62
        },
        {
          "output_type": "display_data",
          "data": {
            "image/png": "[encoded data removed]",
            "text/plain": [
              "<Figure size 432x288 with 1 Axes>"
            ]
          },
          "metadata": {
            "tags": []
          }
        }
      ]
    },
    {
      "cell_type": "markdown",
      "metadata": {
        "id": "dTs-_kMWs6x4"
      },
      "source": [
        "On peut aussi afficher l'erreur au cours de chaque itération:"
      ]
    },
    {
      "cell_type": "code",
      "metadata": {
        "colab": {
          "base_uri": "https://localhost:8080/",
          "height": 287
        },
        "id": "E_u111ITYE1U",
        "outputId": "311bd3f2-ed9d-4bdf-a519-52edc97167ca"
      },
      "source": [
        "plt.plot(np.log(loss_scipy))"
      ],
      "execution_count": null,
      "outputs": [
        {
          "output_type": "execute_result",
          "data": {
            "text/plain": [
              "[<matplotlib.lines.Line2D at 0x7f42a1f8cad0>]"
            ]
          },
          "metadata": {
            "tags": []
          },
          "execution_count": 63
        },
        {
          "output_type": "display_data",
          "data": {
            "image/png": "[encoded data removed]",
            "text/plain": [
              "<Figure size 432x288 with 1 Axes>"
            ]
          },
          "metadata": {
            "tags": []
          }
        }
      ]
    },
    {
      "cell_type": "markdown",
      "metadata": {
        "id": "PZpGnX2La3QB"
      },
      "source": [
        "#Références:\r\n",
        "\r\n",
        "[Article originale, Flamant *et al.*](https://arxiv.org/pdf/2006.14372.pdf) \\\\\r\n",
        "[Article connexe, Lagaris *et al.*](https://arxiv.org/pdf/physics/9705023.pdf) \\\\\r\n",
        "[Librairie autograd de Google](https://github.com/HIPS/autograd) \\\\\r\n",
        "[Code d'inspiration du solver](https://github.com/JiaweiZhuang/AM205_final/tree/2f6fdcec79d93a5480cc0cf05999a547df1bc522)"
      ]
    }
  ]
}